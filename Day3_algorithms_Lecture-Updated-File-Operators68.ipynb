{
 "cells": [
  {
   "cell_type": "markdown",
   "metadata": {},
   "source": [
    "# Intro to Algorithms, Binary Search"
   ]
  },
  {
   "cell_type": "markdown",
   "metadata": {},
   "source": [
    "## Tasks Today:\n",
    " \n",
    "1) <b>In-Place Algorithms</b> <br>\n",
    " &nbsp;&nbsp;&nbsp;&nbsp; a) Syntax <br>\n",
    " &nbsp;&nbsp;&nbsp;&nbsp; a) Out of Place Algorithm <br>\n",
    " &nbsp;&nbsp;&nbsp;&nbsp; b) In-Class Exercise #1 <br>\n",
    "2) <b>Two Pointers</b> <br>\n",
    "4) <b>Sorting Algorithms</b> <br>\n",
    " &nbsp;&nbsp;&nbsp;&nbsp; a) Videos on Algorithms (Watch later) <br>\n",
    " &nbsp;&nbsp;&nbsp;&nbsp; b) Bubble Sort <br>\n",
    " &nbsp;&nbsp;&nbsp;&nbsp; c) Insertion Sort <br>\n",
    " &nbsp;&nbsp;&nbsp;&nbsp; d) Merge Sort <br>\n",
    "5) <b>Binary Search Algorithm</b> <br>\n",
    "6) <b>Exercises</b> <br>\n",
    " &nbsp;&nbsp;&nbsp;&nbsp; a) Exercise #1 - Reverse a List in Place Using an In-Place Algorithm <br>\n",
    " &nbsp;&nbsp;&nbsp;&nbsp; b) Exercise #2 - Find Distinct Words <br>\n",
    " &nbsp;&nbsp;&nbsp;&nbsp; c) Exercise #3 - Write a program to implement a Linear Search Algorithm. <br>"
   ]
  },
  {
   "cell_type": "markdown",
   "metadata": {},
   "source": [
    "## In-Place Algorithms"
   ]
  },
  {
   "cell_type": "markdown",
   "metadata": {},
   "source": [
    "#### Syntax"
   ]
  },
  {
   "cell_type": "code",
   "execution_count": 4,
   "metadata": {},
   "outputs": [
    {
     "name": "stdout",
     "output_type": "stream",
     "text": [
      "[1, 2, 3]\n",
      "[10, 4, 20]\n",
      "Before Swap: [1, 2, 3]\n",
      "After swap: [3, 2, 1]\n"
     ]
    }
   ],
   "source": [
    "a_list = [3,2,1]\n",
    "\n",
    "a_list.sort()\n",
    "print(a_list)\n",
    "\n",
    "\n",
    "#Sometimes known as swap algorithm\n",
    "# var[i], var[i+1] = var[i+1], var[i]\n",
    "a_list = [20,4,10]\n",
    "\n",
    "def swap(l_1, x, y, z):\n",
    "    l_1[x], l_1[y], l_1[z] = l_1[z], l_1[y], l_1[x]\n",
    "    return l_1\n",
    "print(swap(a_list,0,1,2))\n",
    "\n",
    "\n",
    "new_list = [1,2,3]\n",
    "print(f'Before Swap: {new_list}')\n",
    "new_list[0], new_list[1], new_list[2] = new_list[2], new_list[1], new_list[0]\n",
    "print(f'After swap: {new_list}')\n",
    "\n",
    "x,y"
   ]
  },
  {
   "cell_type": "markdown",
   "metadata": {},
   "source": [
    "#### Out of Place Algorithm"
   ]
  },
  {
   "cell_type": "code",
   "execution_count": 6,
   "metadata": {},
   "outputs": [
    {
     "name": "stdout",
     "output_type": "stream",
     "text": [
      "[8, 7, 6, 5, 4, 3, 2, 1]\n",
      "[8, 7, 6, 5, 4, 3, 2, 1]\n"
     ]
    }
   ],
   "source": [
    "#not swapping in place - takes an entire new slow in memory to perform this action\n",
    "\n",
    "my_list = [1,2,3,4,5,6,7,8]\n",
    "my_list_copy = my_list[::-1] #reversing list\n",
    "print(my_list_copy)\n",
    "\n",
    "my_new_copy = ['','','','','','','',''] # 1-7 indeces to place list inside  #creating allocation\n",
    "\n",
    "length = len(my_list)-1 #if looking for final index, use len(list)-1\n",
    "\n",
    "for i in range(len(my_list)):\n",
    "    my_new_copy[i] = my_list[(len(my_list)-1)-i]   #step backwards and step back by i each time by starting at index [7] or 8\n",
    "print(my_new_copy)"
   ]
  },
  {
   "cell_type": "markdown",
   "metadata": {},
   "source": [
    "#### In-Class Exercise #1 <br>\n",
    "<p>Write a function that takes in four arguments (list, index1, index2, index3), and swaps those three positions in the list passed in.</p>"
   ]
  },
  {
   "cell_type": "code",
   "execution_count": 10,
   "metadata": {},
   "outputs": [
    {
     "name": "stdout",
     "output_type": "stream",
     "text": [
      "[3, 4, 10, 8, 4, 2, 6]\n"
     ]
    }
   ],
   "source": [
    "l_1 = [10, 4, 3, 8, 4, 2, 6]\n",
    "\n",
    "def swap(i_l, x, y, z):\n",
    "    i_l[x], i_l[y], i_l[z] = i_l[z], i_l[y], i_l[x]\n",
    "    return i_l\n",
    "print(swap(l_1,0,1,2))\n",
    "    \n",
    "\n"
   ]
  },
  {
   "cell_type": "markdown",
   "metadata": {},
   "source": [
    "## Two Pointers"
   ]
  },
  {
   "cell_type": "markdown",
   "metadata": {},
   "source": [
    "#### Syntax"
   ]
  },
  {
   "cell_type": "code",
   "execution_count": null,
   "metadata": {},
   "outputs": [],
   "source": [
    "# alist[i], alist[j] = alist[j], alist[i]\n",
    "#2 pointers are inside of a while loop\n",
    "\n",
    "my_list2 = [1,2,3,12,9,8,4,11,22]\n",
    "\n",
    "def reverseList(alist):\n",
    "                         #create 2 pointers from very beginning and very end of list\n",
    "    left = 0              #left most point on any list is always index[0]\n",
    "    right = len(alist)-1  #right most point - len(list)minus one\n",
    "    while left < right:\n",
    "        alist[left], alist[right] = alist[right], alist[left]\n",
    "        left += 1\n",
    "        right =+1          #incremement +1 left and decrease -1 right, in order to swap\n",
    "    return alist\n",
    "reverse(my_list2)\n",
    "    \n"
   ]
  },
  {
   "cell_type": "markdown",
   "metadata": {},
   "source": [
    "#### Video of Algorithms <br>\n",
    "<p>Watch the video about algorithms.</p>\n",
    "\n",
    "https://www.youtube.com/watch?v=Q9HjeFD62Uk\n",
    "\n",
    "https://www.youtube.com/watch?v=kPRA0W1kECg\n",
    "\n",
    "https://www.youtube.com/watch?v=ZZuD6iUe3Pc"
   ]
  },
  {
   "cell_type": "markdown",
   "metadata": {},
   "source": [
    "# Sorting Algorithms"
   ]
  },
  {
   "cell_type": "markdown",
   "metadata": {},
   "source": [
    "#### Bubble Sort\n",
    "\n",
    "Worst Case: O(n^2) Time - O(1) Space"
   ]
  },
  {
   "cell_type": "code",
   "execution_count": 12,
   "metadata": {},
   "outputs": [
    {
     "ename": "SyntaxError",
     "evalue": "invalid syntax (<ipython-input-12-201fb7c1093a>, line 13)",
     "output_type": "error",
     "traceback": [
      "\u001b[0;36m  File \u001b[0;32m\"<ipython-input-12-201fb7c1093a>\"\u001b[0;36m, line \u001b[0;32m13\u001b[0m\n\u001b[0;31m    for num in range(len(array)-1) #checking what index is versus the index after it. comparying a range up to the final index\u001b[0m\n\u001b[0m                                   ^\u001b[0m\n\u001b[0;31mSyntaxError\u001b[0m\u001b[0;31m:\u001b[0m invalid syntax\n"
     ]
    }
   ],
   "source": [
    "#big O notation\n",
    "#checking everything to the right and continually looking at the item directly after\n",
    "#sort a list without using any built in python implementation (len(array)-1)\n",
    "\n",
    "\n",
    "def swap(i, j, array):\n",
    "    array[i], array[j] = array[j], array[i]\n",
    "    #index[0], index[1]\n",
    "def bubbleSort(array):\n",
    "    isSorted = False\n",
    "    while not isSorted:\n",
    "        isSorted = True\n",
    "        for num in range(len(array)-1) #checking what index is versus the index after it. comparying a range up to the final index\n",
    "            if array[num] > array[num +1] #checking it right before last index\n",
    "                swap(num, num+1, array)    #starts at index 0 and checks second to last\n",
    "                isSorted = False\n",
    "    return array\n",
    "\n",
    "some_list = [16,4,28,6,0,13]\n",
    "\n",
    "bubbleSort(some_list)\n",
    "\n",
    "\n"
   ]
  },
  {
   "cell_type": "markdown",
   "metadata": {},
   "source": [
    "##### Insertion Sort\n",
    "\n",
    "Worst Case: O(n^2) time - O(1)space"
   ]
  },
  {
   "cell_type": "code",
   "execution_count": null,
   "metadata": {},
   "outputs": [],
   "source": [
    "# Swap helper\n",
    "#comparing everything before (len(array)). \n",
    "\n",
    "\n",
    "list = [44,3,38,5,47,15,36,26]\n",
    "\n",
    "def swap(i, j, array):\n",
    "    array[i], array[j] = array[j], array[i]\n",
    "    \n",
    "def insertionSort(array):\n",
    "    for i in range(1, len(array))  #checking and giving final index, starts at index 1 and looks to the left\n",
    "        j = i\n",
    "        while j > 0 and array[j] < array[j-1]:   \n",
    "            swap(j, j-1, array)\n",
    "            j -= 1\n",
    "    return array\n",
    "    "
   ]
  },
  {
   "cell_type": "markdown",
   "metadata": {},
   "source": [
    "## Merge Sort"
   ]
  },
  {
   "cell_type": "markdown",
   "metadata": {},
   "source": [
    "#### How it Works"
   ]
  },
  {
   "cell_type": "code",
   "execution_count": 19,
   "metadata": {},
   "outputs": [
    {
     "name": "stdout",
     "output_type": "stream",
     "text": [
      "Splitting... [10, 10, 19, 14, 16]\n",
      "Splitting... [10, 10]\n",
      "Splitting... [10]\n",
      "Merging:  [10]\n",
      "Splitting... [10]\n",
      "Merging:  [10]\n",
      "Merging:  [10, 10]\n",
      "Splitting... [19, 14, 16]\n",
      "Splitting... [19]\n",
      "Merging:  [19]\n",
      "Splitting... [14, 16]\n",
      "Splitting... [14]\n",
      "Merging:  [14]\n",
      "Splitting... [16]\n",
      "Merging:  [16]\n",
      "Merging:  [14, 16]\n",
      "Merging:  [14, 16, 19]\n",
      "Merging:  [10, 10, 14, 16, 19]\n"
     ]
    },
    {
     "data": {
      "text/plain": [
       "[10, 10, 14, 16, 19]"
      ]
     },
     "execution_count": 19,
     "metadata": {},
     "output_type": "execute_result"
    }
   ],
   "source": [
    "#split list into equal parts, compare the splits\n",
    "\n",
    "#Step 1: Split everything into its own group\n",
    "#Step 2: from L to R - merge the groups\n",
    "#Step 3: place each item in correct sorted order as merge happens\n",
    "#Step 4: Repear steps 1-3 until done\n",
    "\n",
    "from random import randint\n",
    "#used to generate a list of random integers\n",
    "nums = [randint(0,20) for i in range(5)] #will give 4 random numbers\n",
    "\n",
    "#another way\n",
    "# nums = []\n",
    "# for i in range(5):\n",
    "#     nums.append(randint(0,20))\n",
    "\n",
    "\n",
    "# Merge Sort Implementation\n",
    "def mergeSort(alist):\n",
    "    print('Splitting...', alist)\n",
    "    \n",
    "    #Step 1: Divide this array into equal parts as many times as possible\n",
    "    if len(alist) > 1:\n",
    "        mid = len(alist) // 2 #floor divide by 2 to find the midpoint\n",
    "        lefthalf = alist[:mid]    #floor divide if looking for middle index\n",
    "        righthalf = alist[mid:]\n",
    "\n",
    "#[1,2,3,4,5] midpoint is 3\n",
    "#[1,2]lefthalf\n",
    "#[4,5]righthalf\n",
    "\n",
    "        #recursively call this merSort on splits until they all have a len == 1\n",
    "        mergeSort(lefthalf)\n",
    "        mergeSort(righthalf)\n",
    "        \n",
    "#[1]\n",
    "#[2]\n",
    "#[3]\n",
    "#[4,5] lefthalf\n",
    "\n",
    "#[1]\n",
    "#[2]\n",
    "#[3]\n",
    "#[4]\n",
    "#[5] righthalf\n",
    "    \n",
    "        #index pointers for our list\n",
    "        i = 0 #pointer for the lefthalf\n",
    "        j = 0 #pointer for the righthalf\n",
    "        k = 0 #pointer for main array or original list\n",
    "        \n",
    "    #Step 2: compare left half to right half\n",
    "        while i < len(lefthalf) and j < len(righthalf):\n",
    "            if lefthalf[i] < righthalf[j]:\n",
    "                alist[k] = lefthalf[i]\n",
    "                i += 1\n",
    "            else:\n",
    "                alist[k] = righthalf[j]\n",
    "                j += 1\n",
    "            k += 1\n",
    "                \n",
    "    #Step 3: Merging back together\n",
    "        while i < len(lefthalf):\n",
    "            alist[k] = lefthalf[i]\n",
    "            i += 1\n",
    "            k += 1\n",
    "        \n",
    "        while j < len(righthalf):\n",
    "            alist[k] = righthalf[j]\n",
    "            j += 1\n",
    "            k += 1\n",
    "            \n",
    "    print(\"Merging: \", alist)\n",
    "    return alist\n",
    "\n",
    "mergeSort(nums)"
   ]
  },
  {
   "cell_type": "code",
   "execution_count": 24,
   "metadata": {},
   "outputs": [
    {
     "name": "stdout",
     "output_type": "stream",
     "text": [
      "Splitting... [12, 14, 2, 13, 11]\n",
      "Splitting... [12, 14]\n",
      "Splitting... [12]\n",
      "Merging:  [12]\n",
      "Splitting... [14]\n",
      "Merging:  [14]\n",
      "Merging:  [12, 14]\n",
      "Splitting... [2, 13, 11]\n",
      "Splitting... [2]\n",
      "Merging:  [2]\n",
      "Splitting... [13, 11]\n",
      "Splitting... [13]\n",
      "Merging:  [13]\n",
      "Splitting... [11]\n",
      "Merging:  [11]\n",
      "Merging:  [11, 13]\n",
      "Merging:  [2, 11, 13]\n",
      "Merging:  [2, 11, 12, 13, 14]\n"
     ]
    },
    {
     "data": {
      "text/plain": [
       "[2, 11, 12, 13, 14]"
      ]
     },
     "execution_count": 24,
     "metadata": {},
     "output_type": "execute_result"
    }
   ],
   "source": [
    "#NATES\n",
    "\n",
    "# Step 1: Split everything into its own group\n",
    "# Step 2: from left to right merge the groups\n",
    "# Step 3: place each item in correct sorted order as merge happens\n",
    "# Step 4: Repeat steps 1-3 until we are done!\n",
    "\n",
    "from random import randint\n",
    "# used to generate a list of random integers\n",
    "nums = [randint(0,20) for i in range(5)]\n",
    "\n",
    "# Merge Sort Implementation\n",
    "def mergeSort(alist):\n",
    "    print('Splitting...', alist)\n",
    "    \n",
    "    #Step 1: Divide this array into equal parts as many times as possible\n",
    "    if len(alist) > 1:\n",
    "        mid = len(alist) // 2\n",
    "        lefthalf = alist[:mid]\n",
    "        righthalf = alist[mid:]\n",
    "        \n",
    "        #recursively call this mergeSort on splits until they all have a len == 1\n",
    "        mergeSort(lefthalf)\n",
    "        mergeSort(righthalf)\n",
    "    \n",
    "\n",
    "        # index pointers for our list\n",
    "        i = 0 # pointer for left half\n",
    "        j = 0 # pointer for right half\n",
    "        k = 0 # pointer for main array or original list\n",
    "        \n",
    "        # Step 2 - compare left half to right half\n",
    "        while i < len(lefthalf) and j < len(righthalf):\n",
    "            if lefthalf[i] < righthalf[j]:\n",
    "                alist[k] = lefthalf[i]\n",
    "                i += 1\n",
    "            else:\n",
    "                alist[k] = righthalf[j]\n",
    "                j += 1\n",
    "            k +=1\n",
    "        \n",
    "        # Step 3 - Merging back together\n",
    "        while i < len(lefthalf):\n",
    "            alist[k] = lefthalf[i]\n",
    "            i += 1\n",
    "            k += 1\n",
    "        \n",
    "        while j < len(righthalf):\n",
    "            alist[k] = righthalf[j]\n",
    "            j += 1\n",
    "            k += 1\n",
    "    \n",
    "    print(\"Merging: \", alist)\n",
    "    return alist\n",
    "    \n",
    "    \n",
    "mergeSort(nums)  \n",
    "\n",
    "\n",
    "\n"
   ]
  },
  {
   "cell_type": "markdown",
   "metadata": {},
   "source": [
    "# Binary Search\n",
    "\n",
    "The Binary Search algorithm works by finding the number in the middle of a given array and comparing it to the target. Given that the array is sorted\n",
    "\n",
    "* The worst case run time for this algorithm is `O(log(n))`"
   ]
  },
  {
   "cell_type": "code",
   "execution_count": 25,
   "metadata": {},
   "outputs": [
    {
     "data": {
      "text/plain": [
       "'The index is 1'"
      ]
     },
     "execution_count": 25,
     "metadata": {},
     "output_type": "execute_result"
    }
   ],
   "source": [
    "#[1,50,900,47] #whats the index of 900, which is index[2]\n",
    "\n",
    "#left = less\n",
    "#right = greater\n",
    "#LIST MUST BE SORTED\n",
    "\n",
    "def binSearchHelper(array, target, left, right):\n",
    "    while left <= right:\n",
    "        middle = (left + right) // 2\n",
    "        potential_match = array[middle]\n",
    "        if target == potential_match:\n",
    "            return f'The index is {middle}'\n",
    "        elif target < potential_match:\n",
    "            right = middle - 1\n",
    "        else:\n",
    "            left = middle + 1\n",
    "    return f'There is no value of {target} sorted here...'\n",
    "\n",
    "def binarySearch(array, target): #binarySearch will give binSearchHelper\n",
    "    return binSearchHelper(array, target, 0, len(array)-1)\n",
    "\n",
    "binarySearch([22,44,55,66,88,100], 44)"
   ]
  },
  {
   "cell_type": "markdown",
   "metadata": {},
   "source": [
    "# Exercises"
   ]
  },
  {
   "cell_type": "markdown",
   "metadata": {},
   "source": [
    "### Exercise #1 <br>\n",
    "<p>Reverse the list below in-place using an in-place algorithm.<br>For extra credit: Reverse the strings at the same time.</p>"
   ]
  },
  {
   "cell_type": "code",
   "execution_count": 73,
   "metadata": {},
   "outputs": [
    {
     "name": "stdout",
     "output_type": "stream",
     "text": [
      "['.', 'sentence', 'a', 'is', 'this']\n"
     ]
    }
   ],
   "source": [
    "words = ['this' , 'is', 'a', 'sentence', '.']\n",
    "\n",
    "def swap(w_li,x,y,z,v,m):\n",
    "    (w_li[x], w_li[y], w_li[z], w_li[v], w_li[m]) = w_li[m], w_li[v], w_li[z], w_li[y], w_li[x]\n",
    "    return w_li\n",
    "\n",
    "print(swap(words, 0,1,2,3,4))"
   ]
  },
  {
   "cell_type": "markdown",
   "metadata": {},
   "source": [
    "### Exercise #2 <br>\n",
    "<p>Create a function that counts how many distinct words are in the string below, then outputs a dictionary with the words as the key and the value as the amount of times that word appears in the string.<br>Should output:<br>{'a': 5,<br>\n",
    " 'abstract': 1,<br>\n",
    " 'an': 3,<br>\n",
    " 'array': 2, ... etc...</p>"
   ]
  },
  {
   "cell_type": "code",
   "execution_count": 7,
   "metadata": {},
   "outputs": [
    {
     "data": {
      "text/plain": [
       "{'a': 5,\n",
       " 'abstract': 1,\n",
       " 'an': 3,\n",
       " 'array': 2,\n",
       " 'associative': 1,\n",
       " 'be': 1,\n",
       " 'buckets': 1,\n",
       " 'can': 2,\n",
       " 'compute': 1,\n",
       " 'computing': 1,\n",
       " 'data': 2,\n",
       " 'desired': 1,\n",
       " 'found': 1,\n",
       " 'from': 1,\n",
       " 'function': 1,\n",
       " 'hash': 4,\n",
       " 'implements': 1,\n",
       " 'in': 1,\n",
       " 'index': 1,\n",
       " 'into': 1,\n",
       " 'is': 1,\n",
       " 'keys': 1,\n",
       " 'map': 2,\n",
       " 'of': 1,\n",
       " 'or': 1,\n",
       " 'slots': 1,\n",
       " 'structure': 2,\n",
       " 'table': 2,\n",
       " 'that': 1,\n",
       " 'the': 1,\n",
       " 'to': 2,\n",
       " 'type': 1,\n",
       " 'uses': 1,\n",
       " 'value': 1,\n",
       " 'values': 1,\n",
       " 'which': 2}"
      ]
     },
     "execution_count": 7,
     "metadata": {},
     "output_type": "execute_result"
    }
   ],
   "source": [
    "# class stringCount:\n",
    "a_text = 'In computing, a hash table hash map is a data structure which implements an associative array abstract data type, a structure that can map keys to values. A hash table uses a hash function to compute an index into an array of buckets or slots from which the desired value can be found'\n",
    "\n",
    "def stringList(new_atext): \n",
    "    \n",
    "    wordCounter = {}\n",
    "\n",
    "    new_atext = new_atext.replace(\".\", \"\")\n",
    "    new_atext = new_atext.replace(\",\", \"\")\n",
    "\n",
    "    for count in sorted(new_atext.lower().split()):  #count iterates sorted placeholder \n",
    "        if count not in wordCounter:                #if letter is not in dict, add\n",
    "            wordCounter[count] = 1 \n",
    "        else:\n",
    "            wordCounter[count] += 1                 #else add +1 letter if already in dict\n",
    "    \n",
    "    return wordCounter\n",
    "\n",
    "stringList(a_text)\n",
    "        \n",
    "        \n",
    "# empty dictionary\n",
    "# remove spaces and commas .replace\n",
    "# in for loop use sort function\n",
    "# sort string and split\n",
    "# iterate through string\n",
    "# use if statement that tracks \n",
    "# not in\n",
    "# return dict\n",
    "#make sure all letters are uniform.lower()\n",
    "    \n"
   ]
  },
  {
   "cell_type": "code",
   "execution_count": null,
   "metadata": {},
   "outputs": [],
   "source": [
    "# list1=[1,2,3]\n",
    "# list2=[4,5,6]\n",
    "\n",
    "# new_list=sorted(list1+list2)\n",
    "\n",
    "# def pointy(lista, listb):\n",
    "    \n",
    "#     passs"
   ]
  },
  {
   "cell_type": "markdown",
   "metadata": {},
   "source": [
    "## Exercise #3\n",
    "\n",
    "Write a program to implement a Linear Search Algorithm. \n",
    "\n",
    "#### Hint: Linear Searching will require searching a list for a given number. "
   ]
  },
  {
   "cell_type": "code",
   "execution_count": 12,
   "metadata": {},
   "outputs": [
    {
     "name": "stdout",
     "output_type": "stream",
     "text": [
      "[1, 2, 4, 88, 7, 9, 10, 200]\n",
      "Index for 88:  3\n"
     ]
    }
   ],
   "source": [
    "#search target in list\n",
    "\n",
    "def linSearch(list, target):\n",
    "    for i in range(len(list)):  #for each item in list\n",
    "        if (list[i] == target):   # i holds indexes in list #if target found at index then,\n",
    "            return i                  #return index position - ends loop\n",
    "    else:\n",
    "        return -1     #else return -1 if target not found, bc i goes from zero to -1\n",
    "        \n",
    "list = [1,2,4,88,7,9,10,200] \n",
    "print(list)\n",
    "\n",
    "print('Index for 88: ', linSearch(list, 88))\n",
    "        \n"
   ]
  },
  {
   "cell_type": "code",
   "execution_count": null,
   "metadata": {},
   "outputs": [],
   "source": []
  }
 ],
 "metadata": {
  "kernelspec": {
   "display_name": "Python 3",
   "language": "python",
   "name": "python3"
  },
  "language_info": {
   "codemirror_mode": {
    "name": "ipython",
    "version": 3
   },
   "file_extension": ".py",
   "mimetype": "text/x-python",
   "name": "python",
   "nbconvert_exporter": "python",
   "pygments_lexer": "ipython3",
   "version": "3.8.8"
  }
 },
 "nbformat": 4,
 "nbformat_minor": 2
}
